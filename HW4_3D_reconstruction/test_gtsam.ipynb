{
 "cells": [
  {
   "cell_type": "code",
   "execution_count": 1,
   "metadata": {},
   "outputs": [],
   "source": [
    "import gtsam\n",
    "import matplotlib.pyplot as plt\n",
    "import numpy as np\n",
    "from gtsam import symbol_shorthand\n",
    "\n",
    "from gtsam.examples import SFMdata\n",
    "from gtsam import (Cal3_S2, DoglegOptimizer,\n",
    "                         GenericProjectionFactorCal3_S2, Marginals,\n",
    "                         NonlinearFactorGraph, PinholeCameraCal3_S2, Point3,\n",
    "                         Pose3, PriorFactorPoint3, PriorFactorPose3, Rot3, Values)\n",
    "from gtsam.utils import plot\n",
    "%matplotlib inline"
   ]
  },
  {
   "cell_type": "code",
   "execution_count": 2,
   "metadata": {},
   "outputs": [],
   "source": [
    "L = symbol_shorthand.L\n",
    "X = symbol_shorthand.X"
   ]
  },
  {
   "cell_type": "code",
   "execution_count": 3,
   "metadata": {},
   "outputs": [],
   "source": [
    "# Define the camera calibration parameters\n",
    "K = Cal3_S2(50.0, 50.0, 0.0, 50.0, 50.0)\n",
    "\n",
    "# Define the camera observation noise model\n",
    "measurement_noise = gtsam.noiseModel.Isotropic.Sigma(2, 1.0)  # one pixel in u and v\n",
    "\n",
    "# Create the set of ground-truth landmarks\n",
    "points = SFMdata.createPoints()\n",
    "\n",
    "# Create the set of ground-truth poses\n",
    "poses = SFMdata.createPoses(K)"
   ]
  },
  {
   "cell_type": "code",
   "execution_count": 6,
   "metadata": {},
   "outputs": [],
   "source": [
    "# Create a factor graph\n",
    "graph = NonlinearFactorGraph()\n",
    "\n",
    "# Add a prior on pose x1. This indirectly specifies where the origin is.\n",
    "# 0.3 rad std on roll,pitch,yaw and 0.1m on x,y,z\n",
    "pose_noise = gtsam.noiseModel.Diagonal.Sigmas(\n",
    "     np.array([0.3, 0.3, 0.3, 0.1, 0.1, 0.1]))\n",
    "factor = PriorFactorPose3(X(0), poses[0], pose_noise)\n",
    "graph.push_back(factor)\n",
    "\n",
    "# Simulated measurements from each camera pose, adding them to the factor graph\n",
    "for i, pose in enumerate(poses):\n",
    "    camera = PinholeCameraCal3_S2(pose, K)\n",
    "    for j, point in enumerate(points):\n",
    "        measurement = camera.project(point)\n",
    "        factor = GenericProjectionFactorCal3_S2(\n",
    "            measurement, measurement_noise, X(i), L(j), K)\n",
    "        graph.push_back(factor)"
   ]
  },
  {
   "cell_type": "code",
   "execution_count": 19,
   "metadata": {},
   "outputs": [
    {
     "data": {
      "text/plain": [
       "R: [\n",
       "\t1, 0, 0;\n",
       "\t0, 1, 0;\n",
       "\t0, 0, 1\n",
       "]\n",
       "t: 0 0 0"
      ]
     },
     "execution_count": 19,
     "metadata": {},
     "output_type": "execute_result"
    }
   ],
   "source": [
    "gtsam.Pose3()"
   ]
  }
 ],
 "metadata": {
  "kernelspec": {
   "display_name": "Python 3",
   "language": "python",
   "name": "python3"
  },
  "language_info": {
   "codemirror_mode": {
    "name": "ipython",
    "version": 3
   },
   "file_extension": ".py",
   "mimetype": "text/x-python",
   "name": "python",
   "nbconvert_exporter": "python",
   "pygments_lexer": "ipython3",
   "version": "3.10.12"
  }
 },
 "nbformat": 4,
 "nbformat_minor": 2
}
