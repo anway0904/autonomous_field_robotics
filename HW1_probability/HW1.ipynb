{
 "cells": [
  {
   "cell_type": "markdown",
   "metadata": {},
   "source": [
    "# EECE7150 AFR, Homework 1"
   ]
  },
  {
   "cell_type": "code",
   "execution_count": 20,
   "metadata": {},
   "outputs": [],
   "source": [
    "import numpy as np\n",
    "from enum import Enum"
   ]
  },
  {
   "cell_type": "markdown",
   "metadata": {},
   "source": [
    "### 2(b) Simulator to generate random weather sequences"
   ]
  },
  {
   "cell_type": "markdown",
   "metadata": {},
   "source": [
    " #### (i) How you initialize the simulation: \n",
    " \n",
    " The simulation is initialized with an initial state (sunny, cloudy or rainy) and then based on this information, the next day's state (weather) is sampled using the transition matrix"
   ]
  },
  {
   "cell_type": "markdown",
   "metadata": {},
   "source": [
    "\n",
    "#### (ii) How many transitions you consider before taking a result:\n",
    "\n",
    " Ideally, we asymptotically reach the stationary probabilities, but in simulations atleast about 100 transitions are needed before taking a result\n"
   ]
  },
  {
   "cell_type": "markdown",
   "metadata": {},
   "source": [
    "\n",
    "#### (iii) How many simulation runs you conducted to arrive at the statistics for the stationary distribution:\n",
    " \n",
    " I tested this empirically. I ran 5, 10, 100, 1000, 10000 simulations and found out that after about 1000 iterations, the static distribution converges\n",
    "\n"
   ]
  },
  {
   "cell_type": "code",
   "execution_count": 21,
   "metadata": {},
   "outputs": [],
   "source": [
    "class Weather(Enum):\n",
    "    SUNNY  = 0\n",
    "    CLOUDY = 1\n",
    "    RAINY  = 2\n",
    "\n",
    "class WeatherSim():\n",
    "    def __init__(self) -> None:\n",
    "        self.transition_mat = np.array([[.8, .2, .0],\n",
    "                                        [.4, .4, .2],\n",
    "                                        [.2, .6, .2]])\n",
    "        \n",
    "        self.weather_sequence = None\n",
    "        \n",
    "    def simulate(self, today: Weather, iterations:int) -> Weather:\n",
    "        weather_seq = np.array([today.value])\n",
    "        for _ in range(1, iterations):\n",
    "            tomorrow:Weather = np.random.choice([Weather.SUNNY,\n",
    "                                                 Weather.CLOUDY,\n",
    "                                                 Weather.RAINY], \n",
    "                                                 p = self.transition_mat[today.value,:])\n",
    "            today = tomorrow\n",
    "            weather_seq = np.append(weather_seq, tomorrow.value)\n",
    "\n",
    "        self.weather_sequence = weather_seq\n",
    "        self.__get_static_prob(iterations)\n",
    "\n",
    "    def __get_static_prob(self, iterations:int):\n",
    "        stat_prob = np.unique(self.weather_sequence, return_counts=True)[1]/(iterations+1)\n",
    "        print(\"Static Probability:\")\n",
    "        print(f\"{Weather.SUNNY.name}  = {stat_prob[Weather.SUNNY.value]}\")\n",
    "        print(f\"{Weather.CLOUDY.name} = {stat_prob[Weather.CLOUDY.value]}\")\n",
    "        print(f\"{Weather.RAINY.name}  = {stat_prob[Weather.RAINY.value]}\")"
   ]
  },
  {
   "cell_type": "markdown",
   "metadata": {},
   "source": [
    "### 2(c) Stationary distribution based on the transition matrix"
   ]
  },
  {
   "cell_type": "code",
   "execution_count": 22,
   "metadata": {},
   "outputs": [
    {
     "name": "stdout",
     "output_type": "stream",
     "text": [
      "Static Probability:\n",
      "SUNNY  = 0.6497350264973503\n",
      "CLOUDY = 0.2813718628137186\n",
      "RAINY  = 0.06879312068793121\n"
     ]
    }
   ],
   "source": [
    "simulator = WeatherSim()\n",
    "today = Weather.RAINY\n",
    "simulator.simulate(today, 10000)"
   ]
  },
  {
   "cell_type": "markdown",
   "metadata": {},
   "source": [
    "### 2(d) Closed form solution"
   ]
  },
  {
   "cell_type": "markdown",
   "metadata": {},
   "source": [
    "Essentially, if $p$ represents the static probability distribution for each state (weather), and $A$ represents the state transition matrix, then $$p = A^{T}p$$\n",
    "\n",
    "So technically $p$ is the eigenvector corresponding to the eigenvalue 1. This is shown below (The same effect is achieved by diagonalization of A, but I find this method more intuitive)"
   ]
  },
  {
   "cell_type": "code",
   "execution_count": 23,
   "metadata": {},
   "outputs": [
    {
     "name": "stdout",
     "output_type": "stream",
     "text": [
      "Eigen Values:\n",
      "1.0000000000000002\n",
      "0.48284271247461874\n",
      "-0.08284271247461897\n",
      "\n",
      "Normalized eigen vector corresponding to the eigenvalue 1:\n",
      "[0.64285714 0.28571429 0.07142857]\n"
     ]
    }
   ],
   "source": [
    "e_values, e_vectors = np.linalg.eig(simulator.transition_mat.T)\n",
    "stat_distribution = e_vectors[:,0]/np.sum(e_vectors[:,0])\n",
    "\n",
    "print(f\"Eigen Values:\\n{e_values[0]}\\n{e_values[1]}\\n{e_values[2]}\\n\")\n",
    "print(f\"Normalized eigen vector corresponding to the eigenvalue 1:\\n{stat_distribution}\")"
   ]
  },
  {
   "cell_type": "markdown",
   "metadata": {},
   "source": [
    "The normalized eigen vector corresponding to eigen value 1 is the stationary distribution and matches with the distribution found via simulation"
   ]
  }
 ],
 "metadata": {
  "kernelspec": {
   "display_name": "Python 3",
   "language": "python",
   "name": "python3"
  },
  "language_info": {
   "codemirror_mode": {
    "name": "ipython",
    "version": 3
   },
   "file_extension": ".py",
   "mimetype": "text/x-python",
   "name": "python",
   "nbconvert_exporter": "python",
   "pygments_lexer": "ipython3",
   "version": "3.10.12"
  }
 },
 "nbformat": 4,
 "nbformat_minor": 2
}
